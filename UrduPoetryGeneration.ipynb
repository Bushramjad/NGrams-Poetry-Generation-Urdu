{
  "nbformat": 4,
  "nbformat_minor": 0,
  "metadata": {
    "colab": {
      "name": "i21-2083.ipynb",
      "provenance": [],
      "collapsed_sections": [
        "7NwWnQze_ANO",
        "ZdST5vN98h5Q",
        "rp3V-PQZ8yzB",
        "ve8-HmB9Ej72",
        "Qeos5Dap82Ce",
        "aT3UWQC4hyx4",
        "5HAhEeCAomSI",
        "I19VmvK3ouqN",
        "WhY3Rs6so5Wr",
        "6Wi65G3HpLU7"
      ],
      "authorship_tag": "ABX9TyN3nrfeEijPObgidHGllTs5",
      "include_colab_link": true
    },
    "kernelspec": {
      "display_name": "Python 3",
      "name": "python3"
    },
    "language_info": {
      "name": "python"
    }
  },
  "cells": [
    {
      "cell_type": "markdown",
      "metadata": {
        "id": "view-in-github",
        "colab_type": "text"
      },
      "source": [
        "<a href=\"https://colab.research.google.com/github/Bushramjad/Poetry-Generation-in-Urdu/blob/main/i21_2083.ipynb\" target=\"_parent\"><img src=\"https://colab.research.google.com/assets/colab-badge.svg\" alt=\"Open In Colab\"/></a>"
      ]
    },
    {
      "cell_type": "markdown",
      "metadata": {
        "id": "7NwWnQze_ANO"
      },
      "source": [
        "### Libraries used"
      ]
    },
    {
      "cell_type": "markdown",
      "metadata": {
        "id": "jaqxsSrP_IbU"
      },
      "source": [
        "Following libraries are used to generate poetry"
      ]
    },
    {
      "cell_type": "code",
      "metadata": {
        "id": "QU26z03fuAPb"
      },
      "source": [
        "import spacy\n",
        "import pandas as pd\n",
        "import codecs, sys\n",
        "import random\n",
        "unlp = spacy.blank('ur')"
      ],
      "execution_count": 2,
      "outputs": []
    },
    {
      "cell_type": "markdown",
      "metadata": {
        "id": "ZdST5vN98h5Q"
      },
      "source": [
        "### Generating Unigram Model"
      ]
    },
    {
      "cell_type": "markdown",
      "metadata": {
        "id": "57PtLVFWrWzQ"
      },
      "source": [
        "This helping function is used to remove any punctuation or new lines from the text files provided in order to genarate Unigram Model."
      ]
    },
    {
      "cell_type": "code",
      "metadata": {
        "id": "FNBYUkfihl1F"
      },
      "source": [
        "def remove_punctuation(word):\n",
        "  punctuation = '''!()%\\n٪-;۔،:\\n\\/'\"\\,“./؟_ء'''\n",
        "  for element in word:  \n",
        "    if element in punctuation:\n",
        "      word = word.replace(element, '') \n",
        "  return word"
      ],
      "execution_count": null,
      "outputs": []
    },
    {
      "cell_type": "markdown",
      "metadata": {
        "id": "3gTOgeTDr-bo"
      },
      "source": [
        "We will read the text files of different poets one by one and generate the Unigrams and store them in csv file. After that we will sort the Model in descending order according to frequencies manually.\n",
        "\n",
        "*(Do not run this code again, it might conflict the file provided in folder because that is sorted in descending order)*"
      ]
    },
    {
      "cell_type": "code",
      "metadata": {
        "id": "2NqB6JOAvZ6I"
      },
      "source": [
        "# Poets = ['iqbal.txt','ghalib.txt','faiz.txt']\n",
        "# unigram = open(\"Unigram.csv\",\"a\",encoding='utf-8')\n",
        "# unigrams = list()\n",
        "# for poet in Poets:\n",
        "#   for line in codecs.open(poet, encoding = \"utf_8\"):\n",
        "#     sentence = unlp(line)\n",
        "#     for word in sentence:\n",
        "#             word = word.text\n",
        "#             word = remove_punctuation(word)\n",
        "#             if word != \"\\n\" and word != \"\\r\" and word != \" \" and word != '':\n",
        "#                 unigram.write(word+\"\\n\")\n",
        "#                 unigrams.append(word)\n",
        "\n",
        "# unigram.close()\n",
        "# Unigrams = pd.read_csv (r'Unigrams.csv',header=None)\n",
        "# UnigramFreqDist = Unigrams.groupby(Unigrams.iloc[:,0],sort=False).count() \n",
        "# UnigramFreqDist.to_csv(r'UnigramFreqDist.csv')  \n"
      ],
      "execution_count": null,
      "outputs": []
    },
    {
      "cell_type": "markdown",
      "metadata": {
        "id": "rp3V-PQZ8yzB"
      },
      "source": [
        "### Generating Forward Bigram Model"
      ]
    },
    {
      "cell_type": "markdown",
      "metadata": {
        "id": "3IRvMx8ZtIF8"
      },
      "source": [
        "By using the Unigrams generated in Unigram Model we will generate our Bigram Model.\n",
        "\n",
        "*(Do not run this code again, it might conflict the file provided in folder because that is sorted in descending order)*"
      ]
    },
    {
      "cell_type": "code",
      "metadata": {
        "id": "GoElK9K7uh0W"
      },
      "source": [
        "# bigram = open(\"Bigrams.csv\",\"a\",encoding='utf-8') \n",
        "\n",
        "# for i in range(len(Unigrams)-1):\n",
        "#     word1 = Unigrams.loc[i,0]\n",
        "#     word2 = Unigrams.loc[i+1,0]\n",
        "#     bigram.write( word1 + \" \" + word2 + \"\\n\")\n",
        "\n",
        "# bigram.close()\n",
        "\n",
        "# #storing in another csv file with frequencies\n",
        "# Bigrams = pd.read_csv (r'Bigrams.csv',header=None)\n",
        "# BigramFreqDist = Bigrams.groupby(Bigrams.iloc[:,0],sort=False).count() \n",
        "# BigramFreqDist.to_csv(r'BigramFreqDist.csv')  "
      ],
      "execution_count": null,
      "outputs": []
    },
    {
      "cell_type": "markdown",
      "metadata": {
        "id": "ve8-HmB9Ej72"
      },
      "source": [
        "### Generating Reverse Bigram Model"
      ]
    },
    {
      "cell_type": "markdown",
      "metadata": {
        "id": "JBrh2UPquJAF"
      },
      "source": [
        "Bigram Model is used to produce a Backward Bigram Model that is identical except for the modeling direction.\n",
        "\n",
        "*(Do not run this code again, it might conflict the file provided in folder because that is sorted in descending order)*"
      ]
    },
    {
      "cell_type": "code",
      "metadata": {
        "id": "G-Aoh-Ki4DCC"
      },
      "source": [
        "# ReverseBigrams = BigramModel.values.tolist()\n",
        "# bigram = []\n",
        "# frequency = []\n",
        "\n",
        "# for bigrams in ReverseBigrams:\n",
        "  \n",
        "#   words = bigrams[0].split()\n",
        "#   words = list(reversed(words))\n",
        "#   words = \" \".join(words)\n",
        "#   bigram.append(words)\n",
        "#   frequency.append(bigrams[1])\n",
        "\n",
        "# ReverseBigramsFreq = {'ReverseBigrams': bigram,'Frequency': frequency}\n",
        "# df = pd.DataFrame(ReverseBigramsFreq, columns= ['ReverseBigrams', 'Frequency'])\n",
        "# df.to_csv(r'ReverseBigramFreqDist.csv',encoding='utf-8', index=None)\n",
        "        "
      ],
      "execution_count": null,
      "outputs": []
    },
    {
      "cell_type": "markdown",
      "metadata": {
        "id": "Qeos5Dap82Ce"
      },
      "source": [
        "### Generating Trigram Model"
      ]
    },
    {
      "cell_type": "markdown",
      "metadata": {
        "id": "eFx1EzHatxuO"
      },
      "source": [
        "By using the Unigrams generated in Unigram Model we will generate our Trigram Model.\n",
        "\n",
        "*(Do not run this code again, it might conflict the file provided in folder because that is sorted in descending order)*"
      ]
    },
    {
      "cell_type": "code",
      "metadata": {
        "id": "OKbg221s7R5b"
      },
      "source": [
        "# trigram = open(\"Trigrams.csv\",\"a\",encoding='utf-8') \n",
        "\n",
        "# for i in range(len(Unigrams)-2):\n",
        "#     word1 = Unigrams.loc[i,0]\n",
        "#     word2 = Unigrams.loc[i+1,0]\n",
        "#     word3 = Unigrams.loc[i+2,0]\n",
        "#     trigram.write( word1 + \" \" + word2 + \" \" + word3 + \"\\n\")\n",
        "\n",
        "# trigram.close()\n",
        "\n",
        "# #storing in another csv file with frequencies\n",
        "# Trigrams = pd.read_csv (r'Trigrams.csv',header=None)\n",
        "# TrigramFreqDist = Trigrams.groupby(Trigrams.iloc[:,0],sort=False).count() \n",
        "# TrigramFreqDist.to_csv(r'TrigramFreqDist.csv') "
      ],
      "execution_count": null,
      "outputs": []
    },
    {
      "cell_type": "markdown",
      "metadata": {
        "id": "aT3UWQC4hyx4"
      },
      "source": [
        "### Loading Models - Unigram, Bigram, Trigram, Reverse Bigram"
      ]
    },
    {
      "cell_type": "markdown",
      "metadata": {
        "id": "5-XJ2TcnpvNp"
      },
      "source": [
        "Models are sorted in descending order manually."
      ]
    },
    {
      "cell_type": "code",
      "metadata": {
        "colab": {
          "base_uri": "https://localhost:8080/",
          "height": 204
        },
        "id": "FEikZpCwiCtw",
        "outputId": "3753d650-675f-4d0e-b18a-abbbfb7f7bf5"
      },
      "source": [
        "UnigramModel = pd.read_csv('UnigramFreqDist.csv')\n",
        "UnigramModel.head()"
      ],
      "execution_count": 9,
      "outputs": [
        {
          "output_type": "execute_result",
          "data": {
            "text/html": [
              "<div>\n",
              "<style scoped>\n",
              "    .dataframe tbody tr th:only-of-type {\n",
              "        vertical-align: middle;\n",
              "    }\n",
              "\n",
              "    .dataframe tbody tr th {\n",
              "        vertical-align: top;\n",
              "    }\n",
              "\n",
              "    .dataframe thead th {\n",
              "        text-align: right;\n",
              "    }\n",
              "</style>\n",
              "<table border=\"1\" class=\"dataframe\">\n",
              "  <thead>\n",
              "    <tr style=\"text-align: right;\">\n",
              "      <th></th>\n",
              "      <th>Unigrams</th>\n",
              "      <th>Frequency</th>\n",
              "    </tr>\n",
              "  </thead>\n",
              "  <tbody>\n",
              "    <tr>\n",
              "      <th>0</th>\n",
              "      <td>ہے</td>\n",
              "      <td>803</td>\n",
              "    </tr>\n",
              "    <tr>\n",
              "      <th>1</th>\n",
              "      <td>میں</td>\n",
              "      <td>600</td>\n",
              "    </tr>\n",
              "    <tr>\n",
              "      <th>2</th>\n",
              "      <td>سے</td>\n",
              "      <td>496</td>\n",
              "    </tr>\n",
              "    <tr>\n",
              "      <th>3</th>\n",
              "      <td>نہ</td>\n",
              "      <td>394</td>\n",
              "    </tr>\n",
              "    <tr>\n",
              "      <th>4</th>\n",
              "      <td>کو</td>\n",
              "      <td>371</td>\n",
              "    </tr>\n",
              "  </tbody>\n",
              "</table>\n",
              "</div>"
            ],
            "text/plain": [
              "  Unigrams  Frequency\n",
              "0       ہے        803\n",
              "1      میں        600\n",
              "2       سے        496\n",
              "3       نہ        394\n",
              "4       کو        371"
            ]
          },
          "metadata": {
            "tags": []
          },
          "execution_count": 9
        }
      ]
    },
    {
      "cell_type": "code",
      "metadata": {
        "colab": {
          "base_uri": "https://localhost:8080/",
          "height": 204
        },
        "id": "xrXL03cuh9JD",
        "outputId": "da380f5c-2f4b-4972-d42a-25de833a64a8"
      },
      "source": [
        "BigramModel = pd.read_csv (r'BigramFreqDist.csv')\n",
        "BigramModel.head()"
      ],
      "execution_count": 4,
      "outputs": [
        {
          "output_type": "execute_result",
          "data": {
            "text/html": [
              "<div>\n",
              "<style scoped>\n",
              "    .dataframe tbody tr th:only-of-type {\n",
              "        vertical-align: middle;\n",
              "    }\n",
              "\n",
              "    .dataframe tbody tr th {\n",
              "        vertical-align: top;\n",
              "    }\n",
              "\n",
              "    .dataframe thead th {\n",
              "        text-align: right;\n",
              "    }\n",
              "</style>\n",
              "<table border=\"1\" class=\"dataframe\">\n",
              "  <thead>\n",
              "    <tr style=\"text-align: right;\">\n",
              "      <th></th>\n",
              "      <th>Bigrams</th>\n",
              "      <th>Frequency</th>\n",
              "    </tr>\n",
              "  </thead>\n",
              "  <tbody>\n",
              "    <tr>\n",
              "      <th>0</th>\n",
              "      <td>نہ ہوا</td>\n",
              "      <td>46</td>\n",
              "    </tr>\n",
              "    <tr>\n",
              "      <th>1</th>\n",
              "      <td>کیا ہے</td>\n",
              "      <td>45</td>\n",
              "    </tr>\n",
              "    <tr>\n",
              "      <th>2</th>\n",
              "      <td>ہے کہ</td>\n",
              "      <td>40</td>\n",
              "    </tr>\n",
              "    <tr>\n",
              "      <th>3</th>\n",
              "      <td>نہ ہو</td>\n",
              "      <td>34</td>\n",
              "    </tr>\n",
              "    <tr>\n",
              "      <th>4</th>\n",
              "      <td>میں ہے</td>\n",
              "      <td>29</td>\n",
              "    </tr>\n",
              "  </tbody>\n",
              "</table>\n",
              "</div>"
            ],
            "text/plain": [
              "  Bigrams  Frequency\n",
              "0  نہ ہوا         46\n",
              "1  کیا ہے         45\n",
              "2   ہے کہ         40\n",
              "3   نہ ہو         34\n",
              "4  میں ہے         29"
            ]
          },
          "metadata": {
            "tags": []
          },
          "execution_count": 4
        }
      ]
    },
    {
      "cell_type": "code",
      "metadata": {
        "colab": {
          "base_uri": "https://localhost:8080/",
          "height": 204
        },
        "id": "4X55IlpBiJLu",
        "outputId": "96201e4a-5655-428d-8250-7cc7efa1dd04"
      },
      "source": [
        "ReverseBigramModel = pd.read_csv (r'ReverseBigramFreqDist.csv')\n",
        "ReverseBigramModel.head()"
      ],
      "execution_count": 5,
      "outputs": [
        {
          "output_type": "execute_result",
          "data": {
            "text/html": [
              "<div>\n",
              "<style scoped>\n",
              "    .dataframe tbody tr th:only-of-type {\n",
              "        vertical-align: middle;\n",
              "    }\n",
              "\n",
              "    .dataframe tbody tr th {\n",
              "        vertical-align: top;\n",
              "    }\n",
              "\n",
              "    .dataframe thead th {\n",
              "        text-align: right;\n",
              "    }\n",
              "</style>\n",
              "<table border=\"1\" class=\"dataframe\">\n",
              "  <thead>\n",
              "    <tr style=\"text-align: right;\">\n",
              "      <th></th>\n",
              "      <th>ReverseBigrams</th>\n",
              "      <th>Frequency</th>\n",
              "    </tr>\n",
              "  </thead>\n",
              "  <tbody>\n",
              "    <tr>\n",
              "      <th>0</th>\n",
              "      <td>ہوا نہ</td>\n",
              "      <td>46</td>\n",
              "    </tr>\n",
              "    <tr>\n",
              "      <th>1</th>\n",
              "      <td>ہے کیا</td>\n",
              "      <td>45</td>\n",
              "    </tr>\n",
              "    <tr>\n",
              "      <th>2</th>\n",
              "      <td>کہ ہے</td>\n",
              "      <td>40</td>\n",
              "    </tr>\n",
              "    <tr>\n",
              "      <th>3</th>\n",
              "      <td>ہو نہ</td>\n",
              "      <td>34</td>\n",
              "    </tr>\n",
              "    <tr>\n",
              "      <th>4</th>\n",
              "      <td>ہے میں</td>\n",
              "      <td>29</td>\n",
              "    </tr>\n",
              "  </tbody>\n",
              "</table>\n",
              "</div>"
            ],
            "text/plain": [
              "  ReverseBigrams  Frequency\n",
              "0         ہوا نہ         46\n",
              "1         ہے کیا         45\n",
              "2          کہ ہے         40\n",
              "3          ہو نہ         34\n",
              "4         ہے میں         29"
            ]
          },
          "metadata": {
            "tags": []
          },
          "execution_count": 5
        }
      ]
    },
    {
      "cell_type": "code",
      "metadata": {
        "colab": {
          "base_uri": "https://localhost:8080/",
          "height": 204
        },
        "id": "I96nVXrXiNKu",
        "outputId": "ea05c627-bb4c-4d07-aaae-e61f94f65954"
      },
      "source": [
        "TrigramModel = pd.read_csv (r'TrigramFreqDist.csv')\n",
        "TrigramModel.head()"
      ],
      "execution_count": 6,
      "outputs": [
        {
          "output_type": "execute_result",
          "data": {
            "text/html": [
              "<div>\n",
              "<style scoped>\n",
              "    .dataframe tbody tr th:only-of-type {\n",
              "        vertical-align: middle;\n",
              "    }\n",
              "\n",
              "    .dataframe tbody tr th {\n",
              "        vertical-align: top;\n",
              "    }\n",
              "\n",
              "    .dataframe thead th {\n",
              "        text-align: right;\n",
              "    }\n",
              "</style>\n",
              "<table border=\"1\" class=\"dataframe\">\n",
              "  <thead>\n",
              "    <tr style=\"text-align: right;\">\n",
              "      <th></th>\n",
              "      <th>Trigrams</th>\n",
              "      <th>Frequency</th>\n",
              "    </tr>\n",
              "  </thead>\n",
              "  <tbody>\n",
              "    <tr>\n",
              "      <th>0</th>\n",
              "      <td>کہیں اُس کو</td>\n",
              "      <td>22</td>\n",
              "    </tr>\n",
              "    <tr>\n",
              "      <th>1</th>\n",
              "      <td>کے دیکھ لیا</td>\n",
              "      <td>12</td>\n",
              "    </tr>\n",
              "    <tr>\n",
              "      <th>2</th>\n",
              "      <td>ہی کیوں نہ</td>\n",
              "      <td>11</td>\n",
              "    </tr>\n",
              "    <tr>\n",
              "      <th>3</th>\n",
              "      <td>کیوں نہ ہو</td>\n",
              "      <td>11</td>\n",
              "    </tr>\n",
              "    <tr>\n",
              "      <th>4</th>\n",
              "      <td>کو دیکھتے ہیں</td>\n",
              "      <td>9</td>\n",
              "    </tr>\n",
              "  </tbody>\n",
              "</table>\n",
              "</div>"
            ],
            "text/plain": [
              "        Trigrams  Frequency\n",
              "0    کہیں اُس کو         22\n",
              "1    کے دیکھ لیا         12\n",
              "2     ہی کیوں نہ         11\n",
              "3     کیوں نہ ہو         11\n",
              "4  کو دیکھتے ہیں          9"
            ]
          },
          "metadata": {
            "tags": []
          },
          "execution_count": 6
        }
      ]
    },
    {
      "cell_type": "markdown",
      "metadata": {
        "id": "5HAhEeCAomSI"
      },
      "source": [
        "### Poetry generation from Forward Bigram Model"
      ]
    },
    {
      "cell_type": "markdown",
      "metadata": {
        "id": "cQwwhmN_zWjE"
      },
      "source": [
        "Select the first word of each verse randomly from the Unigram Model and then use the **Bigram Model** to generate the next word until the verse is complete. Generate the next three lines similarly."
      ]
    },
    {
      "cell_type": "code",
      "metadata": {
        "colab": {
          "base_uri": "https://localhost:8080/"
        },
        "id": "CrbqeFagBTRo",
        "outputId": "082a719c-687e-4907-f217-1c529e8ea7b9"
      },
      "source": [
        "unigramList = UnigramModel['Unigrams'].tolist()\n",
        "for stanza in range(3):\n",
        " \n",
        "  for verse in range(4):\n",
        "      singleVerse = []\n",
        "      singleVerse.append('،')\n",
        "      startingWord = random.choice(unigramList)\n",
        "\n",
        "      for words in range(random.randint(3,7)):\n",
        "        singleVerse.append(startingWord)\n",
        "        singleVerse.append(' ')       \n",
        "        next_word_list = BigramModel.loc[BigramModel[\"Bigrams\"].str.startswith(startingWord)]\n",
        "        next_word = pd.DataFrame(next_word_list['Bigrams'].str.split(n=2).str[1])\n",
        "        startingWord = next_word['Bigrams'].iloc[0]\n",
        "      \n",
        "      print(*singleVerse, sep='')\n",
        "  \n",
        "  print('\\n')"
      ],
      "execution_count": 12,
      "outputs": [
        {
          "output_type": "stream",
          "text": [
            "،آگاہی زمیں سے گزر تھا کہ \n",
            "،لاش بے قرار ہوگا سکوت تھا کہ \n",
            "،راستے میں ہے \n",
            "،حسینِ علی کے لیے ہم نے نہ \n",
            "\n",
            "\n",
            "،گزارا پہنچوں کس \n",
            "،بدا حالِ دل کا \n",
            "،آفتاب کا نہ \n",
            "،میراث مرد تھا کہ اُس \n",
            "\n",
            "\n",
            "،جو نہ ہوا ہے \n",
            "،بخود کرتی ہے کہ اُس کو میں \n",
            "،چور بنے گا \n",
            "،فلک الافلاک اے خدا کی ہے \n",
            "\n",
            "\n"
          ],
          "name": "stdout"
        }
      ]
    },
    {
      "cell_type": "markdown",
      "metadata": {
        "id": "I19VmvK3ouqN"
      },
      "source": [
        "### Poetry generation from Trigram Model"
      ]
    },
    {
      "cell_type": "markdown",
      "metadata": {
        "id": "yhp2Qg9t0Znu"
      },
      "source": [
        "Select the first word of each verse randomly from the Unigram Model and then use the **Trigram model** to generate the next word until the verse is complete. Generate the next three lines similarly."
      ]
    },
    {
      "cell_type": "code",
      "metadata": {
        "id": "VAYZb21IUhUg",
        "colab": {
          "base_uri": "https://localhost:8080/"
        },
        "outputId": "c0281a78-0283-4235-d04d-f203be9e4f93"
      },
      "source": [
        "unigramList = UnigramModel['Unigrams'].tolist()\n",
        "for stanza in range(3):\n",
        " \n",
        "  for verse in range(4):\n",
        "      singleVerse = []\n",
        "      singleVerse.append('،')\n",
        "      startingWord = random.choice(unigramList)\n",
        "\n",
        "      for words in range(random.randint(3,7)):\n",
        "        singleVerse.append(startingWord)\n",
        "        singleVerse.append(' ')       \n",
        "        \n",
        "        next_word_list = TrigramModel.loc[TrigramModel[\"Trigrams\"].str.startswith(startingWord)]\n",
        "  \n",
        "        next_word = pd.DataFrame(next_word_list['Trigrams'].str.split(n=2).str[1])\n",
        "        \n",
        "        startingWord = next_word['Trigrams'].iloc[0]\n",
        "      \n",
        "      print(*singleVerse, sep='')\n",
        "  \n",
        "  print('\\n')"
      ],
      "execution_count": null,
      "outputs": [
        {
          "output_type": "stream",
          "text": [
            "،شورِ پندِ ناصح \n",
            "،مُژدہ اے نگاہ تو \n",
            "،نے چاہا تھا گلیوں میں \n",
            "،آباد مری نوا ہائے \n",
            "\n",
            "\n",
            "،فیض تکمیل غم سے میں خاک کے \n",
            "،غاروں میں خاک کے دیکھ \n",
            "،چاند کے دیکھ تو کیا \n",
            "،قابلی سے میں خاک کے \n",
            "\n",
            "\n",
            "،لادوا نہ ہوں ایک ہیں موت سے \n",
            "،نثار کرتا ہوں \n",
            "،پایہ بُرا نہ ہوں \n",
            "،صحرائیوں سے میں خاک کے دیکھ تو \n",
            "\n",
            "\n"
          ],
          "name": "stdout"
        }
      ]
    },
    {
      "cell_type": "markdown",
      "metadata": {
        "id": "WhY3Rs6so5Wr"
      },
      "source": [
        "### Poetry generation from Backward Bigram Model"
      ]
    },
    {
      "cell_type": "markdown",
      "metadata": {
        "id": "BSmf0VTo0rsH"
      },
      "source": [
        "Select the first word of each verse randomly from the Unigram Model and then use the **Backward Bigram model** to generate the next word until the verse is complete. Generate the next three lines similarly."
      ]
    },
    {
      "cell_type": "code",
      "metadata": {
        "colab": {
          "base_uri": "https://localhost:8080/"
        },
        "id": "FCQX6weKFr9z",
        "outputId": "d53eae39-7863-41a2-f16f-7def5f352d43"
      },
      "source": [
        "verse = []\n",
        "unigramList = UnigramModel['Unigrams'].tolist()\n",
        "for stanza in range(3):\n",
        " \n",
        "  for verse in range(4):\n",
        "      singleVerse = []\n",
        "      singleVerse.append('،')\n",
        "      startingWord = random.choice(unigramList)\n",
        "\n",
        "      for words in range(random.randint(3,7)):\n",
        "        singleVerse.append(startingWord)\n",
        "        singleVerse.append(' ')       \n",
        "        \n",
        "        next_word_list = ReverseBigramModel.loc[ReverseBigramModel[\"ReverseBigrams\"].str.startswith(startingWord)]\n",
        "        \n",
        "        next_word = pd.DataFrame(next_word_list['ReverseBigrams'].str.split(n=1).str[1])\n",
        "        \n",
        "        startingWord = next_word['ReverseBigrams'].iloc[0]\n",
        "      \n",
        "      print(*singleVerse, sep='')\n",
        "  \n",
        "  print('\\n')"
      ],
      "execution_count": 29,
      "outputs": [
        {
          "output_type": "stream",
          "text": [
            "،منتظر گوش کبھی کو \n",
            "،سوختن تک ہوتے سحر چراغ \n",
            "،ہےآپ آتی پسند مشکل سخت پسند مشکل \n",
            "،گوارا جاوید نومیدی \n",
            "\n",
            "\n",
            "،دیوار تھا مرد آزاد عجب کرے \n",
            "،جتنی تھیں یاد پر \n",
            "،منزلِ سر ہے کیا گے جائیں مر \n",
            "،پڑھنے جس کہیں نہ کیوں \n",
            "\n",
            "\n",
            "،بدگمانی تغافل کو مجھ ہے \n",
            "،معدن کے جس کہیں نہ کیوں ہی \n",
            "،جحیم بہ کی اس اب ہے کیا \n",
            "،دلّی کہ ہے کیا \n",
            "\n",
            "\n"
          ],
          "name": "stdout"
        }
      ]
    },
    {
      "cell_type": "code",
      "metadata": {
        "id": "D8VGhK0ia0Xi"
      },
      "source": [
        "ForwardBigram = pd.read_csv(r'BigramFreqDist.csv')\n",
        "BackwardBigram = pd.read_csv (r'ReverseBigramFreqDist.csv',encoding ='utf-8')"
      ],
      "execution_count": null,
      "outputs": []
    },
    {
      "cell_type": "markdown",
      "metadata": {
        "id": "6Wi65G3HpLU7"
      },
      "source": [
        "### Poetry generation from Bidirectional Model"
      ]
    },
    {
      "cell_type": "markdown",
      "metadata": {
        "id": "Al-oiYTO044a"
      },
      "source": [
        "First we use the Forward Bigram Model to generate the starting word and then give that word to Backward Bigram Model to generate the next word"
      ]
    },
    {
      "cell_type": "code",
      "metadata": {
        "colab": {
          "base_uri": "https://localhost:8080/"
        },
        "id": "6GeYTvkfGSMg",
        "outputId": "b3bc16c8-de1f-4a2c-f44e-22b069f48ae2"
      },
      "source": [
        "unigramList = UnigramModel['Unigrams'].tolist()\n",
        "startingWord = ''\n",
        "for stanza in range(3):\n",
        "  for verse in range(4):\n",
        "      singleVerse = []\n",
        "      singleVerse.append('،')\n",
        "      startingWord = random.choice(unigramList)\n",
        "\n",
        "      for words in range(random.randint(3,4)):\n",
        "\n",
        "        singleVerse.append(startingWord)\n",
        "        singleVerse.append(' ')   \n",
        "             \n",
        "        next_word_list_forward = BigramModel.loc[BigramModel[\"Bigrams\"].str.startswith(startingWord)]\n",
        "        next_word_forward = pd.DataFrame(next_word_list_forward['Bigrams'].str.split(n=1).str[1])    \n",
        "        \n",
        "        startingWord = next_word_forward['Bigrams'].iloc[0]\n",
        "        singleVerse.append(startingWord)\n",
        "        singleVerse.append(' ')   \n",
        "\n",
        "        next_word_list_backward = ReverseBigramModel.loc[ReverseBigramModel[\"ReverseBigrams\"].str.startswith(startingWord)]\n",
        "        next_word_backward = pd.DataFrame(next_word_list_backward['ReverseBigrams'].str.split(n=1).str[1])\n",
        "        startingWord = next_word_backward['ReverseBigrams'].iloc[0]\n",
        "      \n",
        "      print(*singleVerse, sep='')\n",
        "  \n",
        "  print('\\n')\n",
        "\n"
      ],
      "execution_count": 38,
      "outputs": [
        {
          "output_type": "stream",
          "text": [
            "،حیث قوم اس کی اس کی \n",
            "،سیما ہوائے آیا ہے کیا ہے کیا ہے \n",
            "،کہتا ہوں میں ہے کیا ہے کیا ہے \n",
            "،مقام شوق تھا کہ ہے کہ \n",
            "\n",
            "\n",
            "،دکاں نہیں بھی نہیں بھی نہیں \n",
            "،کیلئے ذلت کیلئے ذلت کیلئے ذلت \n",
            "،یا رب یا رب یا رب یا رب \n",
            "،لذتِ درد پایا درد پایا درد \n",
            "\n",
            "\n",
            "،بیتابی کمند بیتابی کمند بیتابی کمند \n",
            "،احمد فیض بہ کچھ تھا کہ ہے کہ \n",
            "،بستر کھلا در کی اس کی اس کی \n",
            "،آشکار ہوگا یار سے تجھ سے \n",
            "\n",
            "\n"
          ],
          "name": "stdout"
        }
      ]
    },
    {
      "cell_type": "code",
      "metadata": {
        "id": "boDLTB_BcghR"
      },
      "source": [
        ""
      ],
      "execution_count": null,
      "outputs": []
    }
  ]
}
